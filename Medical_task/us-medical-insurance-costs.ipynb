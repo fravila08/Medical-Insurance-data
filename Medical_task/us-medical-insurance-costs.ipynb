{
 "cells": [
  {
   "cell_type": "markdown",
   "metadata": {},
   "source": [
    "# U.S. Medical Insurance Costs"
   ]
  },
  {
   "cell_type": "markdown",
   "metadata": {},
   "source": [
    "before I begin anything I know that I'll need to import csv so I'll start there."
   ]
  },
  {
   "cell_type": "code",
   "execution_count": null,
   "metadata": {},
   "outputs": [],
   "source": [
    "import csv"
   ]
  },
  {
   "cell_type": "markdown",
   "metadata": {},
   "source": [
    "I thought about just importing an open dict with all values inside indiv keys but I think they may be harder to access that way so instead I'm going to push them into individual list and place the list names inside an array that I can later loop through to repeat a function."
   ]
  },
  {
   "cell_type": "code",
   "execution_count": null,
   "metadata": {},
   "outputs": [],
   "source": [
    "age = []\n",
    "sex = []\n",
    "bmi = []\n",
    "children = []\n",
    "smoker = []\n",
    "region = []\n",
    "charges = []\n",
    "csv_topincs=['age','sex','bmi','children','smoker','region','charges']"
   ]
  },
  {
   "cell_type": "markdown",
   "metadata": {},
   "source": [
    "Here I'll write the function that will append the values to their individual list."
   ]
  },
  {
   "cell_type": "code",
   "execution_count": null,
   "metadata": {},
   "outputs": [],
   "source": [
    "def load_data(lst, csv_file, column_name):\n",
    "    with open(csv_file) as csv_info:\n",
    "        csv_dict=csv.DictReader(csv_info)\n",
    "        for row in csv_dict:\n",
    "            lst.append(row[column_name])\n",
    "        return lst"
   ]
  },
  {
   "cell_type": "markdown",
   "metadata": {},
   "source": [
    "This for loop will go through the keys inside csv_topics and append each individual row to their corresponding array."
   ]
  },
  {
   "cell_type": "code",
   "execution_count": null,
   "metadata": {},
   "outputs": [],
   "source": [
    "for i in csv_topics:\n",
    "    load_data(i, 'data/insurance.csv', i)"
   ]
  },
  {
   "cell_type": "markdown",
   "metadata": {},
   "source": [
    "I'll create a classs to add methods and create inheritance if needed."
   ]
  },
  {
   "cell_type": "code",
   "execution_count": null,
   "metadata": {},
   "outputs": [],
   "source": [
    "class Patients:\n",
    "    def __init__(self, age, sex, bmi, children, smoker, region, charges):\n",
    "        self.age=age\n",
    "        self.sex= sex\n",
    "        self.bmi = bmi\n",
    "        self.children = children\n",
    "        self.smoker= smoker\n",
    "        self.region= region\n",
    "        self.charges=charges\n",
    "    \n",
    "    #return the average of ages\n",
    "    def average_age(self):\n",
    "        total=0\n",
    "        for i in self.age:\n",
    "            total+= int(i)\n",
    "        average= total/ len(self.age)\n",
    "        return f\"The average age is {average}\"\n",
    "    \n",
    "    #How many men and women are present\n",
    "    def men_and_women(self):\n",
    "        men=0\n",
    "        woman=0\n",
    "        for i in self.sex:\n",
    "            if i == \"male\":\n",
    "                men +=1\n",
    "            if i == \"female\":\n",
    "                woman += 1\n",
    "        return f\"There are {men} men and {woman} woman in the data.\"\n",
    "\n",
    "    #each individual region\n",
    "    def individual_regions(self):\n",
    "        div_regions=[]\n",
    "        for area in self.region:\n",
    "            if area not in div_regions:\n",
    "                div_regions.append(area)\n",
    "        return div_regions \n",
    "    \n",
    "    #find the average cost\n",
    "    def average_cost(self):\n",
    "        total=0\n",
    "        for i in self.charges:\n",
    "            total += float(i)\n",
    "        average = round(total / len(self.charges), 2)\n",
    "        return f\"The Yearly Medical Ensurance charges are ${average} dollars.\"\n",
    "    \n",
    "    #create a dictionary with keys to values\n",
    "    def create_dict(self):\n",
    "        self.dictionary ={}\n",
    "        self.dictionary['age']=[int(i) for i in self.age]\n",
    "        self.dictionary['sex']= self.sex\n",
    "        self.dictionary['bmi']=self.bmi\n",
    "        self.dictionary['children']=self.children\n",
    "        self.dictionary['smoker']=self.smoker\n",
    "        self.dictionary['regions']=self.region\n",
    "        self.dictionary['charges']=self.charges"
   ]
  },
  {
   "cell_type": "markdown",
   "metadata": {},
   "source": [
    "This will go ahead and create our instance in the class."
   ]
  },
  {
   "cell_type": "code",
   "execution_count": null,
   "metadata": {},
   "outputs": [],
   "source": [
    "all_patients=Patients(age,sex,bmi,children,smoker,region,charges)"
   ]
  }
 ],
 "metadata": {
  "kernelspec": {
   "display_name": "Python 3",
   "language": "python",
   "name": "python3"
  },
  "language_info": {
   "codemirror_mode": {
    "name": "ipython",
    "version": 3
   },
   "file_extension": ".py",
   "mimetype": "text/x-python",
   "name": "python",
   "nbconvert_exporter": "python",
   "pygments_lexer": "ipython3",
   "version": "3.7.6"
  }
 },
 "nbformat": 4,
 "nbformat_minor": 4
}
